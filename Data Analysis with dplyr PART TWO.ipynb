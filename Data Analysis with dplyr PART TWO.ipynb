{
 "cells": [
  {
   "cell_type": "markdown",
   "id": "d024fd5a",
   "metadata": {},
   "source": [
    "#### PART TWO (DATA ANALYSIS)\n",
    "Instructions: • Use any programming language of your choice to analyze data provided in the “wine_dataset.csv” file and answer the following questions and submit your response in PDF:\n",
    "\n",
    "Q1 Which wine type, red or white, has the highest average (mean) pH?\n",
    "\n",
    "Q2 What is the average alcohol content for wines that scored more than 6 on quality?\n",
    "\n",
    "Q3 Looking only at white wines, find the average quality for wines with volatile_acidity greater than or equal to 0.5, wines with volatile_acidity under 0.5 and wines with no volatile_acidity information?\n",
    "\n",
    "Q4 Find the ratio of average alcohol in white wines to that of red wines for each quality rating?"
   ]
  },
  {
   "cell_type": "code",
   "execution_count": 1,
   "id": "6bf289e3",
   "metadata": {},
   "outputs": [
    {
     "data": {
      "text/html": [
       "'C:/Users/EDEH EMEKA NWEKE'"
      ],
      "text/latex": [
       "'C:/Users/EDEH EMEKA NWEKE'"
      ],
      "text/markdown": [
       "'C:/Users/EDEH EMEKA NWEKE'"
      ],
      "text/plain": [
       "[1] \"C:/Users/EDEH EMEKA NWEKE\""
      ]
     },
     "metadata": {},
     "output_type": "display_data"
    }
   ],
   "source": [
    "getwd()"
   ]
  },
  {
   "cell_type": "code",
   "execution_count": 6,
   "id": "d156d1b9",
   "metadata": {
    "collapsed": true
   },
   "outputs": [
    {
     "name": "stderr",
     "output_type": "stream",
     "text": [
      "\n",
      "Attaching package: 'dplyr'\n",
      "\n",
      "The following objects are masked from 'package:stats':\n",
      "\n",
      "    filter, lag\n",
      "\n",
      "The following objects are masked from 'package:base':\n",
      "\n",
      "    intersect, setdiff, setequal, union\n",
      "\n"
     ]
    }
   ],
   "source": [
    "library (dplyr)"
   ]
  },
  {
   "cell_type": "code",
   "execution_count": 4,
   "id": "8041a728",
   "metadata": {},
   "outputs": [
    {
     "data": {
      "text/html": [
       "<table>\n",
       "<thead><tr><th scope=col>ID</th><th scope=col>type</th><th scope=col>fixed_acidity</th><th scope=col>volatile_acidity</th><th scope=col>citric_acid</th><th scope=col>residual_sugar</th><th scope=col>chlorides</th><th scope=col>free_sulfur_dioxide</th><th scope=col>total_sulfur_dioxide</th><th scope=col>density</th><th scope=col>pH</th><th scope=col>sulphates</th><th scope=col>alcohol</th><th scope=col>quality</th></tr></thead>\n",
       "<tbody>\n",
       "\t<tr><td>1     </td><td>white </td><td>7.0   </td><td>0.27  </td><td>0.36  </td><td>20.7  </td><td>0.045 </td><td>45    </td><td>170   </td><td>1.0010</td><td>3.00  </td><td>0.45  </td><td> 8.8  </td><td>6     </td></tr>\n",
       "\t<tr><td>2     </td><td>white </td><td>6.3   </td><td>0.30  </td><td>0.34  </td><td> 1.6  </td><td>0.049 </td><td>14    </td><td>132   </td><td>0.9940</td><td>3.30  </td><td>0.49  </td><td> 9.5  </td><td>6     </td></tr>\n",
       "\t<tr><td>3     </td><td>white </td><td>8.1   </td><td>0.28  </td><td>0.40  </td><td> 6.9  </td><td>0.050 </td><td>30    </td><td> 97   </td><td>0.9951</td><td>3.26  </td><td>0.44  </td><td>10.1  </td><td>6     </td></tr>\n",
       "\t<tr><td>4     </td><td>white </td><td>7.2   </td><td>0.23  </td><td>0.32  </td><td> 8.5  </td><td>0.058 </td><td>47    </td><td>186   </td><td>0.9956</td><td>3.19  </td><td>0.40  </td><td> 9.9  </td><td>6     </td></tr>\n",
       "\t<tr><td>5     </td><td>white </td><td>7.2   </td><td>0.23  </td><td>0.32  </td><td> 8.5  </td><td>0.058 </td><td>47    </td><td>186   </td><td>0.9956</td><td>3.19  </td><td>0.40  </td><td> 9.9  </td><td>6     </td></tr>\n",
       "\t<tr><td>6     </td><td>white </td><td>8.1   </td><td>0.28  </td><td>0.40  </td><td> 6.9  </td><td>0.050 </td><td>30    </td><td> 97   </td><td>0.9951</td><td>3.26  </td><td>0.44  </td><td>10.1  </td><td>6     </td></tr>\n",
       "</tbody>\n",
       "</table>\n"
      ],
      "text/latex": [
       "\\begin{tabular}{r|llllllllllllll}\n",
       " ID & type & fixed\\_acidity & volatile\\_acidity & citric\\_acid & residual\\_sugar & chlorides & free\\_sulfur\\_dioxide & total\\_sulfur\\_dioxide & density & pH & sulphates & alcohol & quality\\\\\n",
       "\\hline\n",
       "\t 1      & white  & 7.0    & 0.27   & 0.36   & 20.7   & 0.045  & 45     & 170    & 1.0010 & 3.00   & 0.45   &  8.8   & 6     \\\\\n",
       "\t 2      & white  & 6.3    & 0.30   & 0.34   &  1.6   & 0.049  & 14     & 132    & 0.9940 & 3.30   & 0.49   &  9.5   & 6     \\\\\n",
       "\t 3      & white  & 8.1    & 0.28   & 0.40   &  6.9   & 0.050  & 30     &  97    & 0.9951 & 3.26   & 0.44   & 10.1   & 6     \\\\\n",
       "\t 4      & white  & 7.2    & 0.23   & 0.32   &  8.5   & 0.058  & 47     & 186    & 0.9956 & 3.19   & 0.40   &  9.9   & 6     \\\\\n",
       "\t 5      & white  & 7.2    & 0.23   & 0.32   &  8.5   & 0.058  & 47     & 186    & 0.9956 & 3.19   & 0.40   &  9.9   & 6     \\\\\n",
       "\t 6      & white  & 8.1    & 0.28   & 0.40   &  6.9   & 0.050  & 30     &  97    & 0.9951 & 3.26   & 0.44   & 10.1   & 6     \\\\\n",
       "\\end{tabular}\n"
      ],
      "text/markdown": [
       "\n",
       "| ID | type | fixed_acidity | volatile_acidity | citric_acid | residual_sugar | chlorides | free_sulfur_dioxide | total_sulfur_dioxide | density | pH | sulphates | alcohol | quality |\n",
       "|---|---|---|---|---|---|---|---|---|---|---|---|---|---|\n",
       "| 1      | white  | 7.0    | 0.27   | 0.36   | 20.7   | 0.045  | 45     | 170    | 1.0010 | 3.00   | 0.45   |  8.8   | 6      |\n",
       "| 2      | white  | 6.3    | 0.30   | 0.34   |  1.6   | 0.049  | 14     | 132    | 0.9940 | 3.30   | 0.49   |  9.5   | 6      |\n",
       "| 3      | white  | 8.1    | 0.28   | 0.40   |  6.9   | 0.050  | 30     |  97    | 0.9951 | 3.26   | 0.44   | 10.1   | 6      |\n",
       "| 4      | white  | 7.2    | 0.23   | 0.32   |  8.5   | 0.058  | 47     | 186    | 0.9956 | 3.19   | 0.40   |  9.9   | 6      |\n",
       "| 5      | white  | 7.2    | 0.23   | 0.32   |  8.5   | 0.058  | 47     | 186    | 0.9956 | 3.19   | 0.40   |  9.9   | 6      |\n",
       "| 6      | white  | 8.1    | 0.28   | 0.40   |  6.9   | 0.050  | 30     |  97    | 0.9951 | 3.26   | 0.44   | 10.1   | 6      |\n",
       "\n"
      ],
      "text/plain": [
       "  ID type  fixed_acidity volatile_acidity citric_acid residual_sugar chlorides\n",
       "1 1  white 7.0           0.27             0.36        20.7           0.045    \n",
       "2 2  white 6.3           0.30             0.34         1.6           0.049    \n",
       "3 3  white 8.1           0.28             0.40         6.9           0.050    \n",
       "4 4  white 7.2           0.23             0.32         8.5           0.058    \n",
       "5 5  white 7.2           0.23             0.32         8.5           0.058    \n",
       "6 6  white 8.1           0.28             0.40         6.9           0.050    \n",
       "  free_sulfur_dioxide total_sulfur_dioxide density pH   sulphates alcohol\n",
       "1 45                  170                  1.0010  3.00 0.45       8.8   \n",
       "2 14                  132                  0.9940  3.30 0.49       9.5   \n",
       "3 30                   97                  0.9951  3.26 0.44      10.1   \n",
       "4 47                  186                  0.9956  3.19 0.40       9.9   \n",
       "5 47                  186                  0.9956  3.19 0.40       9.9   \n",
       "6 30                   97                  0.9951  3.26 0.44      10.1   \n",
       "  quality\n",
       "1 6      \n",
       "2 6      \n",
       "3 6      \n",
       "4 6      \n",
       "5 6      \n",
       "6 6      "
      ]
     },
     "metadata": {},
     "output_type": "display_data"
    }
   ],
   "source": [
    "wine <- read.csv(\"wine_dataset.csv\")\n",
    "head(wine)"
   ]
  },
  {
   "cell_type": "code",
   "execution_count": null,
   "id": "b1216a33",
   "metadata": {},
   "outputs": [],
   "source": []
  },
  {
   "cell_type": "markdown",
   "id": "5b5973bc",
   "metadata": {},
   "source": [
    "#### Q1 Which wine type, red or white, has the highest average (mean) pH?"
   ]
  },
  {
   "cell_type": "code",
   "execution_count": 7,
   "id": "8bc7288b",
   "metadata": {},
   "outputs": [
    {
     "data": {
      "text/html": [
       "<table>\n",
       "<thead><tr><th scope=col>type</th><th scope=col>wine_type_avg</th></tr></thead>\n",
       "<tbody>\n",
       "\t<tr><td>red     </td><td>3.310864</td></tr>\n",
       "\t<tr><td>white   </td><td>3.188203</td></tr>\n",
       "</tbody>\n",
       "</table>\n"
      ],
      "text/latex": [
       "\\begin{tabular}{r|ll}\n",
       " type & wine\\_type\\_avg\\\\\n",
       "\\hline\n",
       "\t red      & 3.310864\\\\\n",
       "\t white    & 3.188203\\\\\n",
       "\\end{tabular}\n"
      ],
      "text/markdown": [
       "\n",
       "| type | wine_type_avg |\n",
       "|---|---|\n",
       "| red      | 3.310864 |\n",
       "| white    | 3.188203 |\n",
       "\n"
      ],
      "text/plain": [
       "  type  wine_type_avg\n",
       "1 red   3.310864     \n",
       "2 white 3.188203     "
      ]
     },
     "metadata": {},
     "output_type": "display_data"
    }
   ],
   "source": [
    "Ans1 <-wine %>% \n",
    "      select(type, pH) %>%\n",
    "      group_by(type) %>% \n",
    "      summarize(wine_type_avg=mean(pH,na.rm=TRUE))\n",
    "\n",
    "Ans1"
   ]
  },
  {
   "cell_type": "markdown",
   "id": "ea27f6bc",
   "metadata": {},
   "source": [
    "From the above result, it's evident that red wine, with average pH value of 3.310864, has a higher average pH."
   ]
  },
  {
   "cell_type": "code",
   "execution_count": null,
   "id": "996f515d",
   "metadata": {},
   "outputs": [],
   "source": []
  },
  {
   "cell_type": "markdown",
   "id": "2c4953a9",
   "metadata": {},
   "source": [
    "#### Q2 What is the average alcohol content for wines that scored more than 6 on quality?"
   ]
  },
  {
   "cell_type": "code",
   "execution_count": 8,
   "id": "618ce05f",
   "metadata": {},
   "outputs": [
    {
     "data": {
      "text/html": [
       "<table>\n",
       "<thead><tr><th scope=col>avg_alcohol</th></tr></thead>\n",
       "<tbody>\n",
       "\t<tr><td>11.43336</td></tr>\n",
       "</tbody>\n",
       "</table>\n"
      ],
      "text/latex": [
       "\\begin{tabular}{r|l}\n",
       " avg\\_alcohol\\\\\n",
       "\\hline\n",
       "\t 11.43336\\\\\n",
       "\\end{tabular}\n"
      ],
      "text/markdown": [
       "\n",
       "| avg_alcohol |\n",
       "|---|\n",
       "| 11.43336 |\n",
       "\n"
      ],
      "text/plain": [
       "  avg_alcohol\n",
       "1 11.43336   "
      ]
     },
     "metadata": {},
     "output_type": "display_data"
    }
   ],
   "source": [
    "Ans2 <- wine %>%\n",
    "      filter(quality > 6)%>% \n",
    "      summarise(avg_alcohol = mean(alcohol, na.rm=TRUE))\n",
    "\n",
    "Ans2"
   ]
  },
  {
   "cell_type": "code",
   "execution_count": null,
   "id": "87079f2d",
   "metadata": {},
   "outputs": [],
   "source": []
  },
  {
   "cell_type": "markdown",
   "id": "f89576f8",
   "metadata": {},
   "source": [
    "#### Q3 Looking only at white wines, find the average quality for wines with volatile_acidity greater than or equal to 0.5, wines with volatile_acidity under 0.5 and wines with no volatile_acidity information?"
   ]
  },
  {
   "cell_type": "code",
   "execution_count": 9,
   "id": "89c094f3",
   "metadata": {},
   "outputs": [
    {
     "data": {
      "text/html": [
       "<table>\n",
       "<thead><tr><th scope=col>avg_quality</th></tr></thead>\n",
       "<tbody>\n",
       "\t<tr><td>5.276471</td></tr>\n",
       "</tbody>\n",
       "</table>\n"
      ],
      "text/latex": [
       "\\begin{tabular}{r|l}\n",
       " avg\\_quality\\\\\n",
       "\\hline\n",
       "\t 5.276471\\\\\n",
       "\\end{tabular}\n"
      ],
      "text/markdown": [
       "\n",
       "| avg_quality |\n",
       "|---|\n",
       "| 5.276471 |\n",
       "\n"
      ],
      "text/plain": [
       "  avg_quality\n",
       "1 5.276471   "
      ]
     },
     "metadata": {},
     "output_type": "display_data"
    }
   ],
   "source": [
    "#Average quality for wines with volatile_acidity greater than or equal to 0.5\n",
    "\n",
    "Avg_quality_greater_or_equal <- wine %>%\n",
    "      filter(type == 'white', volatile_acidity >= 0.5)%>% \n",
    "      summarise(avg_quality = mean(quality, na.rm=TRUE))\n",
    "\n",
    "Avg_quality_greater_or_equal"
   ]
  },
  {
   "cell_type": "code",
   "execution_count": 10,
   "id": "ae412048",
   "metadata": {},
   "outputs": [
    {
     "data": {
      "text/html": [
       "<table>\n",
       "<thead><tr><th scope=col>avg_quality_under</th></tr></thead>\n",
       "<tbody>\n",
       "\t<tr><td>5.899386</td></tr>\n",
       "</tbody>\n",
       "</table>\n"
      ],
      "text/latex": [
       "\\begin{tabular}{r|l}\n",
       " avg\\_quality\\_under\\\\\n",
       "\\hline\n",
       "\t 5.899386\\\\\n",
       "\\end{tabular}\n"
      ],
      "text/markdown": [
       "\n",
       "| avg_quality_under |\n",
       "|---|\n",
       "| 5.899386 |\n",
       "\n"
      ],
      "text/plain": [
       "  avg_quality_under\n",
       "1 5.899386         "
      ]
     },
     "metadata": {},
     "output_type": "display_data"
    }
   ],
   "source": [
    "#Average quality for wines with volatile_acidity under 0.5\n",
    "\n",
    "Avg_quality_under <- wine %>%\n",
    "      filter(type == 'white', volatile_acidity < 0.5)%>% \n",
    "      summarise(avg_quality_under = mean(quality, na.rm=TRUE))\n",
    "\n",
    "Avg_quality_under"
   ]
  },
  {
   "cell_type": "code",
   "execution_count": 11,
   "id": "82bfb37d",
   "metadata": {},
   "outputs": [
    {
     "data": {
      "text/html": [
       "<table>\n",
       "<thead><tr><th scope=col>avg_quality_with_no_acidity</th></tr></thead>\n",
       "<tbody>\n",
       "\t<tr><td>NaN</td></tr>\n",
       "</tbody>\n",
       "</table>\n"
      ],
      "text/latex": [
       "\\begin{tabular}{r|l}\n",
       " avg\\_quality\\_with\\_no\\_acidity\\\\\n",
       "\\hline\n",
       "\t NaN\\\\\n",
       "\\end{tabular}\n"
      ],
      "text/markdown": [
       "\n",
       "| avg_quality_with_no_acidity |\n",
       "|---|\n",
       "| NaN |\n",
       "\n"
      ],
      "text/plain": [
       "  avg_quality_with_no_acidity\n",
       "1 NaN                        "
      ]
     },
     "metadata": {},
     "output_type": "display_data"
    }
   ],
   "source": [
    "#Average quality for wines with no volatile_acidity information\n",
    "\n",
    "Avg_quality_with_no <- wine %>%\n",
    "      filter(type == 'white', volatile_acidity == 0)%>% \n",
    "      summarise(avg_quality_with_no_acidity = mean(quality, na.rm=TRUE))\n",
    "\n",
    "Avg_quality_with_no"
   ]
  },
  {
   "cell_type": "code",
   "execution_count": null,
   "id": "28f70401",
   "metadata": {},
   "outputs": [],
   "source": []
  },
  {
   "cell_type": "markdown",
   "id": "6e63de16",
   "metadata": {},
   "source": [
    "#### Q4 Find the ratio of average alcohol in white wines to that of red wines for each quality rating?"
   ]
  },
  {
   "cell_type": "code",
   "execution_count": null,
   "id": "2dd4108d",
   "metadata": {},
   "outputs": [],
   "source": [
    "# I am yet to get this right\n",
    "\n",
    "for (i in wine$quality) {\n",
    "      wine %>%\n",
    "      (filter(type == 'white')%>% \n",
    "      select(type, quality)%>%\n",
    "      summarise(avg_alc = mean(wine$alcohol, na.rm=TRUE)))%>%\n",
    "         print()\n",
    "    print(i)  }\n"
   ]
  }
 ],
 "metadata": {
  "kernelspec": {
   "display_name": "R",
   "language": "R",
   "name": "ir"
  },
  "language_info": {
   "codemirror_mode": "r",
   "file_extension": ".r",
   "mimetype": "text/x-r-source",
   "name": "R",
   "pygments_lexer": "r",
   "version": "3.6.1"
  }
 },
 "nbformat": 4,
 "nbformat_minor": 5
}
